{
  "cells": [
    {
      "cell_type": "code",
      "execution_count": null,
      "metadata": {
        "id": "093JMiWOuKTX"
      },
      "outputs": [],
      "source": [
        "# Run below commands\n",
        "!apt-get install openjdk-8-jdk-headless -qq > /dev/null\n",
        "!wget -q https://archive.apache.org/dist/spark/spark-3.1.2/spark-3.1.2-bin-hadoop3.2.tgz\n",
        "!tar xf spark-3.1.2-bin-hadoop3.2.tgz\n",
        "!pip install -q findspark"
      ]
    },
    {
      "cell_type": "code",
      "execution_count": null,
      "metadata": {
        "id": "LHFI2PWDuNx-"
      },
      "outputs": [],
      "source": [
        "import os\n",
        "os.environ[\"JAVA_HOME\"] = \"/usr/lib/jvm/java-8-openjdk-amd64\"\n",
        "os.environ[\"SPARK_HOME\"] = \"/content/spark-3.1.2-bin-hadoop3.2\""
      ]
    },
    {
      "cell_type": "code",
      "execution_count": null,
      "metadata": {
        "id": "KtfLZdT3uN0-"
      },
      "outputs": [],
      "source": [
        "import findspark\n",
        "findspark.init()\n",
        "from pyspark.sql import SparkSession\n",
        "from pyspark import SparkConf, SparkContext\n",
        "from datetime import datetime, date, timedelta\n",
        "from dateutil import relativedelta\n",
        "from pyspark.sql import SQLContext, Row\n",
        "from pyspark.sql.types import *\n",
        "from pyspark.sql.functions import *\n",
        "from pyspark.sql import DataFrame\n",
        "from pyspark.sql.functions import *\n",
        "from pyspark.sql.functions import to_timestamp, to_date\n",
        "from pyspark.sql import functions as F  \n",
        "from pyspark.sql.functions import collect_list, collect_set, concat, first, array_distinct, col, size, expr\n",
        "from pyspark.sql import DataFrame \n",
        "import random\n",
        "import pandas as pd\n",
        "import os"
      ]
    },
    {
      "cell_type": "code",
      "execution_count": null,
      "metadata": {
        "id": "4pIyFNrLuN36"
      },
      "outputs": [],
      "source": [
        "spark = SparkSession\\\n",
        "        .builder\\\n",
        "        .getOrCreate()"
      ]
    },
    {
      "cell_type": "code",
      "execution_count": null,
      "metadata": {
        "colab": {
          "base_uri": "https://localhost:8080/",
          "height": 115
        },
        "id": "VPsCSddXuN6c",
        "outputId": "be13038e-41e9-41f1-fcf9-cf1e6992b0a5"
      },
      "outputs": [
        {
          "output_type": "display_data",
          "data": {
            "text/plain": [
              "<IPython.core.display.HTML object>"
            ],
            "text/html": [
              "\n",
              "     <input type=\"file\" id=\"files-a2289d59-e3a0-4fa7-9ca3-5e579efa408d\" name=\"files[]\" multiple disabled\n",
              "        style=\"border:none\" />\n",
              "     <output id=\"result-a2289d59-e3a0-4fa7-9ca3-5e579efa408d\">\n",
              "      Upload widget is only available when the cell has been executed in the\n",
              "      current browser session. Please rerun this cell to enable.\n",
              "      </output>\n",
              "      <script>// Copyright 2017 Google LLC\n",
              "//\n",
              "// Licensed under the Apache License, Version 2.0 (the \"License\");\n",
              "// you may not use this file except in compliance with the License.\n",
              "// You may obtain a copy of the License at\n",
              "//\n",
              "//      http://www.apache.org/licenses/LICENSE-2.0\n",
              "//\n",
              "// Unless required by applicable law or agreed to in writing, software\n",
              "// distributed under the License is distributed on an \"AS IS\" BASIS,\n",
              "// WITHOUT WARRANTIES OR CONDITIONS OF ANY KIND, either express or implied.\n",
              "// See the License for the specific language governing permissions and\n",
              "// limitations under the License.\n",
              "\n",
              "/**\n",
              " * @fileoverview Helpers for google.colab Python module.\n",
              " */\n",
              "(function(scope) {\n",
              "function span(text, styleAttributes = {}) {\n",
              "  const element = document.createElement('span');\n",
              "  element.textContent = text;\n",
              "  for (const key of Object.keys(styleAttributes)) {\n",
              "    element.style[key] = styleAttributes[key];\n",
              "  }\n",
              "  return element;\n",
              "}\n",
              "\n",
              "// Max number of bytes which will be uploaded at a time.\n",
              "const MAX_PAYLOAD_SIZE = 100 * 1024;\n",
              "\n",
              "function _uploadFiles(inputId, outputId) {\n",
              "  const steps = uploadFilesStep(inputId, outputId);\n",
              "  const outputElement = document.getElementById(outputId);\n",
              "  // Cache steps on the outputElement to make it available for the next call\n",
              "  // to uploadFilesContinue from Python.\n",
              "  outputElement.steps = steps;\n",
              "\n",
              "  return _uploadFilesContinue(outputId);\n",
              "}\n",
              "\n",
              "// This is roughly an async generator (not supported in the browser yet),\n",
              "// where there are multiple asynchronous steps and the Python side is going\n",
              "// to poll for completion of each step.\n",
              "// This uses a Promise to block the python side on completion of each step,\n",
              "// then passes the result of the previous step as the input to the next step.\n",
              "function _uploadFilesContinue(outputId) {\n",
              "  const outputElement = document.getElementById(outputId);\n",
              "  const steps = outputElement.steps;\n",
              "\n",
              "  const next = steps.next(outputElement.lastPromiseValue);\n",
              "  return Promise.resolve(next.value.promise).then((value) => {\n",
              "    // Cache the last promise value to make it available to the next\n",
              "    // step of the generator.\n",
              "    outputElement.lastPromiseValue = value;\n",
              "    return next.value.response;\n",
              "  });\n",
              "}\n",
              "\n",
              "/**\n",
              " * Generator function which is called between each async step of the upload\n",
              " * process.\n",
              " * @param {string} inputId Element ID of the input file picker element.\n",
              " * @param {string} outputId Element ID of the output display.\n",
              " * @return {!Iterable<!Object>} Iterable of next steps.\n",
              " */\n",
              "function* uploadFilesStep(inputId, outputId) {\n",
              "  const inputElement = document.getElementById(inputId);\n",
              "  inputElement.disabled = false;\n",
              "\n",
              "  const outputElement = document.getElementById(outputId);\n",
              "  outputElement.innerHTML = '';\n",
              "\n",
              "  const pickedPromise = new Promise((resolve) => {\n",
              "    inputElement.addEventListener('change', (e) => {\n",
              "      resolve(e.target.files);\n",
              "    });\n",
              "  });\n",
              "\n",
              "  const cancel = document.createElement('button');\n",
              "  inputElement.parentElement.appendChild(cancel);\n",
              "  cancel.textContent = 'Cancel upload';\n",
              "  const cancelPromise = new Promise((resolve) => {\n",
              "    cancel.onclick = () => {\n",
              "      resolve(null);\n",
              "    };\n",
              "  });\n",
              "\n",
              "  // Wait for the user to pick the files.\n",
              "  const files = yield {\n",
              "    promise: Promise.race([pickedPromise, cancelPromise]),\n",
              "    response: {\n",
              "      action: 'starting',\n",
              "    }\n",
              "  };\n",
              "\n",
              "  cancel.remove();\n",
              "\n",
              "  // Disable the input element since further picks are not allowed.\n",
              "  inputElement.disabled = true;\n",
              "\n",
              "  if (!files) {\n",
              "    return {\n",
              "      response: {\n",
              "        action: 'complete',\n",
              "      }\n",
              "    };\n",
              "  }\n",
              "\n",
              "  for (const file of files) {\n",
              "    const li = document.createElement('li');\n",
              "    li.append(span(file.name, {fontWeight: 'bold'}));\n",
              "    li.append(span(\n",
              "        `(${file.type || 'n/a'}) - ${file.size} bytes, ` +\n",
              "        `last modified: ${\n",
              "            file.lastModifiedDate ? file.lastModifiedDate.toLocaleDateString() :\n",
              "                                    'n/a'} - `));\n",
              "    const percent = span('0% done');\n",
              "    li.appendChild(percent);\n",
              "\n",
              "    outputElement.appendChild(li);\n",
              "\n",
              "    const fileDataPromise = new Promise((resolve) => {\n",
              "      const reader = new FileReader();\n",
              "      reader.onload = (e) => {\n",
              "        resolve(e.target.result);\n",
              "      };\n",
              "      reader.readAsArrayBuffer(file);\n",
              "    });\n",
              "    // Wait for the data to be ready.\n",
              "    let fileData = yield {\n",
              "      promise: fileDataPromise,\n",
              "      response: {\n",
              "        action: 'continue',\n",
              "      }\n",
              "    };\n",
              "\n",
              "    // Use a chunked sending to avoid message size limits. See b/62115660.\n",
              "    let position = 0;\n",
              "    do {\n",
              "      const length = Math.min(fileData.byteLength - position, MAX_PAYLOAD_SIZE);\n",
              "      const chunk = new Uint8Array(fileData, position, length);\n",
              "      position += length;\n",
              "\n",
              "      const base64 = btoa(String.fromCharCode.apply(null, chunk));\n",
              "      yield {\n",
              "        response: {\n",
              "          action: 'append',\n",
              "          file: file.name,\n",
              "          data: base64,\n",
              "        },\n",
              "      };\n",
              "\n",
              "      let percentDone = fileData.byteLength === 0 ?\n",
              "          100 :\n",
              "          Math.round((position / fileData.byteLength) * 100);\n",
              "      percent.textContent = `${percentDone}% done`;\n",
              "\n",
              "    } while (position < fileData.byteLength);\n",
              "  }\n",
              "\n",
              "  // All done.\n",
              "  yield {\n",
              "    response: {\n",
              "      action: 'complete',\n",
              "    }\n",
              "  };\n",
              "}\n",
              "\n",
              "scope.google = scope.google || {};\n",
              "scope.google.colab = scope.google.colab || {};\n",
              "scope.google.colab._files = {\n",
              "  _uploadFiles,\n",
              "  _uploadFilesContinue,\n",
              "};\n",
              "})(self);\n",
              "</script> "
            ]
          },
          "metadata": {}
        },
        {
          "output_type": "stream",
          "name": "stdout",
          "text": [
            "Saving GlobalLandTemperatures_GlobalLandTemperaturesByCountry.csv to GlobalLandTemperatures_GlobalLandTemperaturesByCountry.csv\n"
          ]
        }
      ],
      "source": [
        "#To upload files, use the following command\n",
        "from google.colab import files\n",
        "temp_file = \"/content/GlobalLandTemperatures_GlobalLandTemperaturesByCountry.csv\"\n",
        "if os.path.isfile(temp_file):\n",
        "  pass\n",
        "else:\n",
        "  files.upload()"
      ]
    },
    {
      "cell_type": "code",
      "execution_count": null,
      "metadata": {
        "id": "NPmVDp1kgQou"
      },
      "outputs": [],
      "source": [
        "df = spark.read.format(\"csv\").option(\"header\", True).load(\"/content/GlobalLandTemperatures_GlobalLandTemperaturesByCountry.csv\")"
      ]
    },
    {
      "cell_type": "code",
      "source": [
        "from pyspark.sql.types import FloatType\n",
        "df = df.withColumn(\"AverageTemperature\",df.AverageTemperature.cast(FloatType()))"
      ],
      "metadata": {
        "id": "t_KAc30smxCh"
      },
      "execution_count": null,
      "outputs": []
    },
    {
      "cell_type": "code",
      "execution_count": null,
      "metadata": {
        "colab": {
          "base_uri": "https://localhost:8080/"
        },
        "id": "8WFJm76tgWDm",
        "outputId": "0754bc85-4816-4494-f4ac-22f360b723cd"
      },
      "outputs": [
        {
          "output_type": "stream",
          "name": "stdout",
          "text": [
            "+----------+------------------+-----------------------------+-------+\n",
            "|        dt|AverageTemperature|AverageTemperatureUncertainty|Country|\n",
            "+----------+------------------+-----------------------------+-------+\n",
            "|1743-11-01|             4.384|                        2.294|  Åland|\n",
            "|1743-12-01|              null|                         null|  Åland|\n",
            "|1744-01-01|              null|                         null|  Åland|\n",
            "|1744-02-01|              null|                         null|  Åland|\n",
            "|1744-03-01|              null|                         null|  Åland|\n",
            "|1744-04-01|              1.53|                         4.68|  Åland|\n",
            "|1744-05-01|             6.702|                        1.789|  Åland|\n",
            "|1744-06-01|            11.609|                        1.577|  Åland|\n",
            "|1744-07-01|            15.342|                         1.41|  Åland|\n",
            "|1744-08-01|              null|                         null|  Åland|\n",
            "|1744-09-01|            11.702|                        1.517|  Åland|\n",
            "|1744-10-01|             5.477|                        1.862|  Åland|\n",
            "|1744-11-01|             3.407|                        1.425|  Åland|\n",
            "|1744-12-01|            -2.181|                        1.641|  Åland|\n",
            "|1745-01-01|             -3.85|                        1.841|  Åland|\n",
            "|1745-02-01|            -6.575|                         1.36|  Åland|\n",
            "|1745-03-01|            -4.195|                        1.213|  Åland|\n",
            "|1745-04-01|            -0.966|                        1.172|  Åland|\n",
            "|1745-05-01|              null|                         null|  Åland|\n",
            "|1745-06-01|              null|                         null|  Åland|\n",
            "+----------+------------------+-----------------------------+-------+\n",
            "only showing top 20 rows\n",
            "\n"
          ]
        }
      ],
      "source": [
        "df.show(20)"
      ]
    },
    {
      "cell_type": "code",
      "source": [
        "df.printSchema()"
      ],
      "metadata": {
        "colab": {
          "base_uri": "https://localhost:8080/"
        },
        "id": "OUr8-gIOoQko",
        "outputId": "9381b314-254c-4d1e-ec58-dd15134e8e0e"
      },
      "execution_count": null,
      "outputs": [
        {
          "output_type": "stream",
          "name": "stdout",
          "text": [
            "root\n",
            " |-- dt: string (nullable = true)\n",
            " |-- AverageTemperature: float (nullable = true)\n",
            " |-- AverageTemperatureUncertainty: string (nullable = true)\n",
            " |-- Country: string (nullable = true)\n",
            "\n"
          ]
        }
      ]
    },
    {
      "cell_type": "markdown",
      "source": [
        "## 1-a\n",
        "Kuwait in 2012-07-01 has the highest average temperature"
      ],
      "metadata": {
        "id": "qFKLroXAWibq"
      }
    },
    {
      "cell_type": "code",
      "source": [
        "max_value = df.agg({\"AverageTemperature\": \"max\"}).collect()[0][\"max(AverageTemperature)\"]\n",
        "result = df.filter(col(\"AverageTemperature\") == max_value)\n",
        "result.show()"
      ],
      "metadata": {
        "colab": {
          "base_uri": "https://localhost:8080/"
        },
        "id": "wDgP34MVqjTQ",
        "outputId": "32de799d-1b7c-4f09-9e57-9433a68581fe"
      },
      "execution_count": null,
      "outputs": [
        {
          "output_type": "stream",
          "name": "stdout",
          "text": [
            "+----------+------------------+-----------------------------+-------+\n",
            "|        dt|AverageTemperature|AverageTemperatureUncertainty|Country|\n",
            "+----------+------------------+-----------------------------+-------+\n",
            "|2012-07-01|            38.842|                        0.464| Kuwait|\n",
            "+----------+------------------+-----------------------------+-------+\n",
            "\n"
          ]
        }
      ]
    },
    {
      "cell_type": "markdown",
      "source": [
        "## 1-b\n",
        "This is the top 10 countries with the biggest change in average temperature. for each country, I take the highest and lowest value and got the absolute difference."
      ],
      "metadata": {
        "id": "ds-34ykdW277"
      }
    },
    {
      "cell_type": "code",
      "source": [
        "max_year = df.groupBy(\"Country\").agg(max(\"AverageTemperature\").alias(\"max_value\"))\n",
        "min_year = df.groupBy(\"Country\").agg(min(\"AverageTemperature\").alias(\"min_value\"))\n",
        "final_df = max_year.join(min_year , \"Country\")\n",
        "final_df = final_df.withColumn(\"abs_diff\", abs(final_df[\"max_value\"] - final_df[\"min_value\"]))\n",
        "final_df = final_df.orderBy(\"abs_diff\", ascending=False)\n",
        "top_10_rows = final_df.limit(10)\n",
        "top_10_rows.show()"
      ],
      "metadata": {
        "colab": {
          "base_uri": "https://localhost:8080/"
        },
        "id": "C8neKU3hu00R",
        "outputId": "194df819-36de-4162-b646-7c34345a01aa"
      },
      "execution_count": null,
      "outputs": [
        {
          "output_type": "stream",
          "name": "stdout",
          "text": [
            "+------------+---------+---------+---------+\n",
            "|     Country|max_value|min_value| abs_diff|\n",
            "+------------+---------+---------+---------+\n",
            "|  Kazakhstan|   25.562|  -23.601|49.163002|\n",
            "|    Mongolia|   20.716|  -27.442|48.157997|\n",
            "|      Russia|   16.893|  -30.577|    47.47|\n",
            "|      Canada|   14.796|  -28.736|43.531998|\n",
            "|  Uzbekistan|   30.375|  -12.323|42.697998|\n",
            "|Turkmenistan|   32.136|   -8.443|40.579002|\n",
            "|     Finland|   19.132|    -21.2|   40.332|\n",
            "|     Belarus|   22.811|  -16.527|   39.338|\n",
            "|     Ukraine|   24.297|  -14.724|   39.021|\n",
            "|     Estonia|   22.332|  -16.551|38.883003|\n",
            "+------------+---------+---------+---------+\n",
            "\n"
          ]
        }
      ]
    },
    {
      "cell_type": "markdown",
      "source": [
        "## 2-a"
      ],
      "metadata": {
        "id": "p2LJ3F4CXaSy"
      }
    },
    {
      "cell_type": "code",
      "source": [
        "temp_file = \"/content/CO2 emissions per capita per country.csv\"\n",
        "if os.path.isfile(temp_file):\n",
        "  pass\n",
        "else:\n",
        "  files.upload()"
      ],
      "metadata": {
        "id": "wkcXTDwAymib"
      },
      "execution_count": null,
      "outputs": []
    },
    {
      "cell_type": "code",
      "source": [
        "df_co2 = spark.read.format(\"csv\").option(\"header\", True).load(\"/content/CO2 emissions per capita per country.csv\")"
      ],
      "metadata": {
        "id": "usb9PZm1zDVP"
      },
      "execution_count": null,
      "outputs": []
    },
    {
      "cell_type": "code",
      "source": [
        "df_co2.show(20)"
      ],
      "metadata": {
        "colab": {
          "base_uri": "https://localhost:8080/"
        },
        "id": "CXTseuHlzOlK",
        "outputId": "653cf188-9ce8-45fb-c705-db05cc9f9b2b"
      },
      "execution_count": null,
      "outputs": [
        {
          "output_type": "stream",
          "name": "stdout",
          "text": [
            "+--------------------+------------+-----------+-----------+-----------+-----------+-----------+-----------+-----------+-----------+-----------+-----------+-----------+-----------+-----------+-----------+-----------+-----------+-----------+-----------+-----------+-----------+-----------+-----------+-----------+-----------+-----------+-----------+-----------+-----------+-----------+-----------+-----------+-----------+-----------+-----------+-----------+-----------+-----------+-----------+-----------+-----------+-----------+-----------+-----------+-----------+-----------+-----------+-----------+-----------+-----------+-----------+-----------+-----------+-----------+-----------+-----------+----+----+----+----+\n",
            "|        Country Name|Country Code|       1960|       1961|       1962|       1963|       1964|       1965|       1966|       1967|       1968|       1969|       1970|       1971|       1972|       1973|       1974|       1975|       1976|       1977|       1978|       1979|       1980|       1981|       1982|       1983|       1984|       1985|       1986|       1987|       1988|       1989|       1990|       1991|       1992|       1993|       1994|       1995|       1996|       1997|       1998|       1999|       2000|       2001|       2002|       2003|       2004|       2005|       2006|       2007|       2008|       2009|       2010|       2011|       2012|       2013|       2014|2015|2016|2017|2018|\n",
            "+--------------------+------------+-----------+-----------+-----------+-----------+-----------+-----------+-----------+-----------+-----------+-----------+-----------+-----------+-----------+-----------+-----------+-----------+-----------+-----------+-----------+-----------+-----------+-----------+-----------+-----------+-----------+-----------+-----------+-----------+-----------+-----------+-----------+-----------+-----------+-----------+-----------+-----------+-----------+-----------+-----------+-----------+-----------+-----------+-----------+-----------+-----------+-----------+-----------+-----------+-----------+-----------+-----------+-----------+-----------+-----------+-----------+----+----+----+----+\n",
            "|               Aruba|         ABW|       null|       null|       null|       null|       null|       null|       null|       null|       null|       null|       null|       null|       null|       null|       null|       null|       null|       null|       null|       null|       null|       null|       null|       null|       null|       null|2.868319392|7.235198033|10.02617921| 10.6347326|26.37450321| 26.0461298| 21.4425588|22.00078616|21.03624511|20.77193616|20.31835337|20.42681771|20.58766915|20.31156677|26.19487524|25.93402441|25.67116178|26.42045209|26.51729342|27.20070778|26.94826047|  27.895574|26.23084664|25.91583295|24.67052887| 24.5058352|13.15554169|8.351294252|8.408362638|null|null|null|null|\n",
            "|         Afghanistan|         AFG|0.046059897|0.053604304|0.073764791|0.074232685|0.086292452|0.101467397|0.107636955|0.123734289| 0.11549774| 0.08682346|0.150290627|0.166042044| 0.13076385|0.136279785|0.155649444|0.168928649|0.154787206|0.182963616|0.163159571|0.168376671|0.132858608|0.151972881|0.164803883|0.203635582|0.234987713|0.297827727|0.270891121|0.271611659|0.248472561|0.235694613|0.213449805|0.187672724|0.099666474|0.089154036| 0.08003917|0.072698618|0.066044698|0.059648382| 0.05520717|0.042332597| 0.03850634|0.039002334|0.048715548|  0.0518296|0.039377828|0.052948215|0.063728472|0.085417506|0.154101422|0.241722682|0.293836994|0.412016938|0.350370581|0.315601773|0.299444991|null|null|null|null|\n",
            "|              Angola|         AGO|0.097471604|0.079038085|0.201289076|0.192534735|0.201003361|0.191528411|0.246412785|0.154911578|0.256315998|0.419550564|0.528697988|0.492302233|0.635214721|0.670624323|0.652023363|0.574693143|0.415850303|0.434755038|0.646179204|0.636944237|0.598717343|0.571201904|0.485251545|0.515071547|0.487395694|0.443121443|0.426768722|  0.5184278|0.445557344|0.423524277|0.420284254|0.405450105|0.400678653|0.430889258|0.281092579|0.769173426|0.712306341|0.489209377| 0.47137391|0.574083595|0.580352661|0.573047493|0.720768849|0.497975073|0.996165478|0.979740026|1.098883898|1.197843982|1.181526759|1.232494515|1.243405585|1.252789255|1.330843018|1.254617218|1.291328315|null|null|null|null|\n",
            "|             Albania|         ALB|1.258194928|1.374186047|1.439955964|1.181681144| 1.11174196|1.166099043|1.333055465|  1.3637463|1.519551277|1.558967572|1.753239905|1.989497923|2.515914398|2.303897417|1.849006691|1.910633637|2.013584562|2.275876391| 2.53062504|2.898208518| 1.93505831|2.693023914|2.624856785|2.683239919|2.694291374|2.658015382|2.665356221|2.414060815|2.331598531|2.783243075|1.678106654|  1.3122126|0.774724911|0.723790292|0.600203708|0.654537133|0.636625313| 0.49036506|0.560271437|0.960164412|0.978174681|1.053304176|1.229540709|1.412697196|1.376212735|1.412498211|1.302576367|1.322334855|1.484311139|1.495600199|1.578573584|1.803714725|1.692908325|1.749211079|1.978763312|null|null|null|null|\n",
            "|             Andorra|         AND|       null|       null|       null|       null|       null|       null|       null|       null|       null|       null|       null|       null|       null|       null|       null|       null|       null|       null|       null|       null|       null|       null|       null|       null|       null|       null|       null|       null|       null|       null|7.467335669|7.182456636|6.912053389|6.736054846|6.494200424|6.662051684|7.065071473|7.239712718|7.660783886|7.975454404|8.019284294|7.786950001|7.590615141|7.315760706|7.358624941|7.299871936|6.746218716|6.519465912|6.427886622|6.121652341|6.122594702|5.867129945|5.916596911|5.900752587|5.832169951|null|null|null|null|\n",
            "|          Arab World|         ARB|0.643689011|0.685150884|0.760854507|0.874941189|0.999097655|1.165705386|1.272650672|1.331404395|1.544942527|1.789913392|1.801245462|1.993486215|2.109871603|2.396799726|2.273440745|2.184263525|2.568710035|2.631628366| 2.74324133|2.842655116|3.069208819|2.907057909| 2.70111659|2.793356928|2.956318154|3.035558013|3.255536588|3.168821856|3.264489032|3.226127128|2.989008072|3.207224619|3.385246998| 3.63837855|3.644858894|3.398199765|3.304793683|3.124848492|3.329548276|3.309553392|3.684441272|3.590302965|3.588035581|3.779889011|4.051465169|4.168486256|4.268239866|4.100226273|4.390401434|4.542151451|4.615758201|4.537755236|4.813630727|4.650474168|4.860233832|null|null|null|null|\n",
            "|United Arab Emirates|         ARE|0.118757692| 0.10883674|0.163018351|0.175222592|0.132354958|0.146326865|0.159950399|5.383684807|6.785773552|100.6976695|64.74501378|75.98153209|70.48362784|77.12098728|66.46069916|56.05113796|61.29020795|51.84464328|52.58289939| 38.4518098|35.40411979|32.88162816|30.99646083|28.20499098|35.18821247|35.89096957| 32.0839896|30.55837249|29.21022992|31.02882617|27.95924521|28.93913532|27.86136845|  29.890451|31.40439759| 28.8469908|15.97008152|15.42443139| 28.7143215|26.22842771|35.67825923|30.49115342|24.15124891|28.55255307|27.70120802|25.36237265|23.63108943|22.43980121|22.82394719|21.90855608|19.44369027|19.07648878|19.81768422|18.95416379|23.30202251|null|null|null|null|\n",
            "|           Argentina|         ARG|2.367473032|2.442615898|2.522392105|2.316356332|2.538379303|2.641714344|2.792653799|2.858162297| 2.96985458|3.275850995|3.451159798|3.650078618|3.637858513|3.730791118|3.726698966|3.641822498|3.768774074|3.749871394|3.762750369|3.998733119|3.868853067|3.574967863|3.567086789|3.572042094|3.560142534| 3.31032707|   3.377245|3.669168725|3.820445568|3.629201904|3.426481983| 3.52770381|3.605749117|3.457164549|3.542095019|3.656645582|3.811457285|3.851202695|3.857870916|4.010698763|3.835573665|3.568599866|3.291547735| 3.52558427| 4.06905838|4.141236814|4.434821452|4.382668884|4.682912395|4.410889894|4.558499612|4.600290699|4.569383676|4.462903755|4.746797455|null|null|null|null|\n",
            "|             Armenia|         ARM|       null|       null|       null|       null|       null|       null|       null|       null|       null|       null|       null|       null|       null|       null|       null|       null|       null|       null|       null|       null|       null|       null|       null|       null|       null|       null|       null|       null|       null|       null|       null|       null|1.692473009|0.759983503|0.824155363| 1.05997746|0.809046419|1.032302975|1.081692124|0.975803629|1.128918604|1.161167684|1.003201493|1.136138307|1.214751524|1.460030477|1.481177962|1.726570171|1.911537642|1.509411878|1.465621895|1.710070765|1.976060074|1.899711734| 1.90275891|null|null|null|null|\n",
            "|      American Samoa|         ASM|       null|       null|       null|       null|       null|       null|       null|       null|       null|       null|       null|       null|       null|       null|       null|       null|       null|       null|       null|       null|       null|       null|       null|       null|       null|       null|       null|       null|       null|       null|       null|       null|       null|       null|       null|       null|       null|       null|       null|       null|       null|       null|       null|       null|       null|       null|       null|       null|       null|       null|       null|       null|       null|       null|       null|null|null|null|null|\n",
            "| Antigua and Barbuda|         ATG|0.662642982|0.849084497|1.796794064|1.446821285|1.540135072|2.473585495|5.613448493|8.912847222|15.31343284|19.08331058|6.886077081|6.238223734|5.406990864|4.710273171|6.053204097|9.883268863|5.580272532| 6.39051801|6.701462004|5.535809488| 1.94729174| 1.45543755|4.049249117|1.177305658|2.073948392|3.573357026| 3.62388641|4.053725403|4.265352382|4.292944302| 4.23352225|3.977164337|3.858476917| 3.87997941|3.732497664|3.735788316|3.878986619|3.962335507|3.995303753|4.033068153|4.123971095| 4.09566526|4.293313704|4.620874526|4.778147909|4.806998084|4.913644367|5.136472571|5.194500314|5.446757355|5.539567509|5.363407474|5.418446532|5.360453467|5.377648546|null|null|null|null|\n",
            "|           Australia|         AUS|8.582936643|8.641569017|8.835688047|9.226439909|9.759073431|10.62232139|10.32809244| 10.9556248|11.21016771|11.60055435|11.80289054|11.80911757|11.95163155|12.77968685|12.55966873|12.65989981|12.41679178|13.23189614|14.06985862|14.12909198|15.02491601|15.43250084|15.42493181|14.64008413| 15.2209753| 15.3084102|14.98057315| 15.7469578|15.79616778|16.51986292|15.45288167|15.12796621|15.31776851| 15.7014518|15.57658628|15.59651881|16.50180039|16.51427321|16.93569585|17.19029769|17.20060983|16.73336743|17.37045177|16.90195895|17.02651535|17.16971145|17.65139831|17.86526004|18.16087566|18.20018196|17.74084505|17.53887776|17.07290468|16.09583317|15.38876602|null|null|null|null|\n",
            "|             Austria|         AUT|4.373318828|4.496361641|4.755361673|5.155193747|5.391003988|5.252196533|5.361724683|5.417736727|5.711110104|6.006325178|6.788807307|6.953651912|7.448516814|7.930866985|7.562697278|7.176844855|7.721250012|7.428063284|7.601371804|8.158846402|   6.928479|7.416160614|7.112124941|6.874373273|7.214278667|7.230766353|7.144304852|7.623419815|7.032030698|7.102448997|7.513246156|7.944096184|7.226236428|7.223017309|7.189264701|7.521516107|7.938008299|7.863667996|7.981004261|7.741130615|7.774259739|8.192769898|8.299115796|8.889562334|8.858363703|9.020169598|8.727297872|8.406418936|8.295095978|7.518751102|8.071131802|7.748134305|7.387077163|7.368748145| 6.86986793|null|null|null|null|\n",
            "|          Azerbaijan|         AZE|       null|       null|       null|       null|       null|       null|       null|       null|       null|       null|       null|       null|       null|       null|       null|       null|       null|       null|       null|       null|       null|       null|       null|       null|       null|       null|       null|       null|       null|       null|       null|       null| 7.61863709|6.464585857|5.525358563|4.337414444|4.026472755|3.803022741| 4.00297561|3.579835395|3.666271029|3.547105484|3.623944346|3.718169927|3.863229639|4.091801927|4.616299863|  3.5553401|4.051383481|3.565668218|3.388225879|3.646179877| 3.82487717|3.785068836|3.931560609|null|null|null|null|\n",
            "|             Burundi|         BDI|       null|       null|0.015206992|0.016160066|0.015833023| 0.01191406| 0.01512058|0.014740464|0.016586591|0.021623037|0.018039962| 0.02092206|0.020693856|0.020494678|0.025334488|0.020974295|0.023533697|0.025910488|0.026234565|0.027411289|0.035629468|0.037336898|0.036387481|0.046159711|0.048130813|0.049131807|0.048473582|0.049993825|0.044267124|0.050698823|0.038597042|0.043008469|0.038217221|0.039393228|0.039969978|0.039978645|0.040062492|0.040797127|0.040307438|0.040297088|0.042395011|0.031323575|0.031548442|0.023205146|0.027569697|0.020747407|0.024365963|0.023555045|0.023219419|0.022462399|0.024260032| 0.02676196|0.030296973| 0.03017577|0.044485376|null|null|null|null|\n",
            "|             Belgium|         BEL|9.941594074|10.10387199|10.64118963|11.38692874|11.05365472|11.14165555|11.04201943|11.21725675|12.32568713|12.81544961|13.01017881|12.56342518|13.47269526| 14.2554864|13.83696555| 12.4583039|13.24167979|12.87543872|13.80705794|14.23923382|13.72329627|12.57955507|11.92668478|10.31207942|10.69696639|10.59744025|10.43154171|10.44717278|10.13514385|10.81351494|10.63967167|11.09099988|11.14648251|10.67503455| 11.1051094|11.08115205|11.62383425|11.32885202|11.60191455|11.17302675| 11.2296677|11.13371551| 10.3854951|10.88211417|10.66129022|10.35539299|  10.151039|9.744777191|9.751984809|9.249615685|10.17146522|9.054330011| 8.56287875|8.689543091|8.328159898|null|null|null|null|\n",
            "|               Benin|         BEN|0.066354063| 0.05204863|0.054208805|0.047588561|0.055303533|0.057114995|0.042382648|0.052284076|0.055170709|0.070750258|0.096952622|0.098556326|0.127712648|0.122481633|0.127701408|0.135891142|0.077784148|0.086510056|0.103019122|0.101339606|0.139097135|0.112310111|0.125105341|0.112552906|0.120856597|0.173986403|0.155688061|0.118857275|0.118496584|0.130855167|0.142157591|0.159512217|0.168501162|0.205206743|0.221397671|0.224780453|0.207591276|0.193809928|0.187593089|0.234411619|0.232860969|0.256497596|0.285000234|0.313037269|0.323642156|0.299985405|0.471267009|0.531738987|0.507237393|0.521063185|0.553283259|0.559693354|0.562347006|0.580960914|0.614213852|null|null|null|null|\n",
            "|        Burkina Faso|         BFA|0.009111902|0.018729901|0.017003116|0.017504203|0.021575284|0.019841271|0.019533659|0.019216851|0.018894962|0.021889868|0.025426341|0.026268913|0.027698405|0.028443214|0.033998445| 0.03574919|0.033314914| 0.03896836|0.053341702| 0.06100989| 0.06342019|0.079795452|0.080427283| 0.08092381|0.061836945|0.061686819|0.060571874|0.063518718|0.066263378|0.095737173|0.066173051|0.069287423|0.067840845|  0.0656434|0.065745043|0.062147134|0.068229866|0.075639822|0.078563833| 0.08255275|0.089716851|0.083504269|0.081733493|0.085194017|0.084705971|0.083875344|0.098375847|0.115526282|0.130556622|0.127633338|0.125717252|0.137496219|0.158663009|0.179132409|0.162018806|null|null|null|null|\n",
            "|          Bangladesh|         BGD|       null|       null|       null|       null|       null|       null|       null|       null|       null|       null|       null|       null|0.051914946|0.066302743|0.066692361| 0.06829413|0.076304643|0.077572579|0.078115625|0.083903855|0.093755743|0.094739619|0.099981186|0.093233483|0.100553935|0.109813432|0.119727919|0.120625234|0.134150581| 0.12986798|0.146281294|0.146609266|0.159575353|0.153104602|0.163272688|0.192205167|0.198152233|0.202365814|0.190182468| 0.19558517|0.211802225|0.242020016|0.246756218| 0.25660216|0.266823041|0.275246594|0.299529173|0.301630726|0.332727819|0.357158767|0.393936699|0.412011186|0.433487963|0.442400828|0.459141965|null|null|null|null|\n",
            "|            Bulgaria|         BGR|2.833901121|3.269920074|3.835891818|4.259780927|5.262987916|5.645651942|5.905436715|6.638369161|7.112214403|7.869932816|7.213424372|7.532552676|7.715656701|7.983550221|8.210958036|8.377877479|8.347946173|8.628766462|9.236529547|8.968132006|8.744238667| 9.03643153|10.10727531|10.10833662|9.749961471|9.992783476|10.21729994|  10.214134|9.718843491|9.771261867| 8.54301079|6.666757565|6.347137362| 8.00979638|6.414520789|6.900326395|6.763241038|6.209849583|5.934325293|5.356718076|5.328034342|5.800066474|5.695266947|6.084370085|6.064891808|6.256282044|6.445333272|6.925435282|6.772087541|5.731193724|5.964900206| 6.71538056|6.119456526|5.450695963|5.871615869|null|null|null|null|\n",
            "+--------------------+------------+-----------+-----------+-----------+-----------+-----------+-----------+-----------+-----------+-----------+-----------+-----------+-----------+-----------+-----------+-----------+-----------+-----------+-----------+-----------+-----------+-----------+-----------+-----------+-----------+-----------+-----------+-----------+-----------+-----------+-----------+-----------+-----------+-----------+-----------+-----------+-----------+-----------+-----------+-----------+-----------+-----------+-----------+-----------+-----------+-----------+-----------+-----------+-----------+-----------+-----------+-----------+-----------+-----------+-----------+-----------+----+----+----+----+\n",
            "only showing top 20 rows\n",
            "\n"
          ]
        }
      ]
    },
    {
      "cell_type": "code",
      "source": [
        "df_co2 = df_co2.withColumnRenamed('Country Name','Country')"
      ],
      "metadata": {
        "id": "IT4wp4wfzTG8"
      },
      "execution_count": null,
      "outputs": []
    },
    {
      "cell_type": "code",
      "source": [
        "from pyspark.sql.functions import array, col, explode, lit, struct\n",
        "from pyspark.sql import DataFrame\n",
        "from typing import Iterable "
      ],
      "metadata": {
        "id": "93BRLhv4LDdv"
      },
      "execution_count": null,
      "outputs": []
    },
    {
      "cell_type": "code",
      "source": [
        "def melt(\n",
        "        df: DataFrame, \n",
        "        id_vars: Iterable[str], value_vars: Iterable[str], \n",
        "        var_name: str=\"variable\", value_name: str=\"value\") -> DataFrame:\n",
        "    \"\"\"Convert :class:`DataFrame` from wide to long format.\"\"\"\n",
        "\n",
        "    # Create array<struct<variable: str, value: ...>>\n",
        "    _vars_and_vals = array(*(\n",
        "        struct(lit(c).alias(var_name), col(c).alias(value_name)) \n",
        "        for c in value_vars))\n",
        "\n",
        "    # Add to the DataFrame and explode\n",
        "    _tmp = df.withColumn(\"_vars_and_vals\", explode(_vars_and_vals))\n",
        "\n",
        "    cols = id_vars + [\n",
        "            col(\"_vars_and_vals\")[x].alias(x) for x in [var_name, value_name]]\n",
        "    return _tmp.select(*cols)"
      ],
      "metadata": {
        "id": "tMlYT8fZLGDK"
      },
      "execution_count": null,
      "outputs": []
    },
    {
      "cell_type": "code",
      "source": [
        "df_co2 = melt(df_co2, id_vars=['Country'],\n",
        "            value_vars=['1960', '1961', '1962', '1963', '1964', '1965', '1966', '1967', '1968', '1969',\n",
        "                        '1970', '1971', '1972', '1973', '1974', '1975', '1976', '1977', '1978', '1979',\n",
        "                        '1980', '1981', '1982', '1983', '1984', '1985', '1986', '1987', '1988', '1989',\n",
        "                        '1990', '1991', '1992', '1993', '1994', '1995', '1996', '1997', '1998', '1999',\n",
        "                        '2000', '2001', '2002', '2003', '2004', '2005', '2006', '2007', '2008', '2009',\n",
        "                        '2010', '2011', '2012', '2013', '2014', '2015', '2016', '2017', '2018'])"
      ],
      "metadata": {
        "id": "jwDMVrFuLHyF"
      },
      "execution_count": null,
      "outputs": []
    },
    {
      "cell_type": "code",
      "source": [
        "df_co2 = df_co2.withColumnRenamed('variable','Year')\n",
        "df_co2 = df_co2.withColumnRenamed('value', 'CO2')"
      ],
      "metadata": {
        "id": "HdQ1FoOfLK3O"
      },
      "execution_count": null,
      "outputs": []
    },
    {
      "cell_type": "code",
      "source": [
        "df_co2.show()"
      ],
      "metadata": {
        "colab": {
          "base_uri": "https://localhost:8080/"
        },
        "id": "SZyWZaUSP9mR",
        "outputId": "dcbb9f1b-f805-45b5-f2ca-402e45648923"
      },
      "execution_count": null,
      "outputs": [
        {
          "output_type": "stream",
          "name": "stdout",
          "text": [
            "+-------+----+----+\n",
            "|Country|Year| CO2|\n",
            "+-------+----+----+\n",
            "|  Aruba|1960|null|\n",
            "|  Aruba|1961|null|\n",
            "|  Aruba|1962|null|\n",
            "|  Aruba|1963|null|\n",
            "|  Aruba|1964|null|\n",
            "|  Aruba|1965|null|\n",
            "|  Aruba|1966|null|\n",
            "|  Aruba|1967|null|\n",
            "|  Aruba|1968|null|\n",
            "|  Aruba|1969|null|\n",
            "|  Aruba|1970|null|\n",
            "|  Aruba|1971|null|\n",
            "|  Aruba|1972|null|\n",
            "|  Aruba|1973|null|\n",
            "|  Aruba|1974|null|\n",
            "|  Aruba|1975|null|\n",
            "|  Aruba|1976|null|\n",
            "|  Aruba|1977|null|\n",
            "|  Aruba|1978|null|\n",
            "|  Aruba|1979|null|\n",
            "+-------+----+----+\n",
            "only showing top 20 rows\n",
            "\n"
          ]
        }
      ]
    },
    {
      "cell_type": "code",
      "source": [
        "from pyspark.sql.functions import year"
      ],
      "metadata": {
        "id": "TuMqJrJ7L7Kx"
      },
      "execution_count": null,
      "outputs": []
    },
    {
      "cell_type": "code",
      "source": [
        "# Change for the df\n",
        "df = df.withColumn('Year', year(df['dt']))\n",
        "df = df.groupBy('Country', 'Year').agg({'AverageTemperature': 'avg'})"
      ],
      "metadata": {
        "id": "gXJ3WGgCPNfg"
      },
      "execution_count": null,
      "outputs": []
    },
    {
      "cell_type": "code",
      "source": [
        "df.show()"
      ],
      "metadata": {
        "colab": {
          "base_uri": "https://localhost:8080/"
        },
        "id": "JqfNxAF6QeqD",
        "outputId": "ae125c91-d671-42b2-f8c3-d5939dcc294a"
      },
      "execution_count": null,
      "outputs": [
        {
          "output_type": "stream",
          "name": "stdout",
          "text": [
            "+-------------------+----+-----------------------+\n",
            "|            Country|Year|avg(AverageTemperature)|\n",
            "+-------------------+----+-----------------------+\n",
            "|            Albania|1821|      12.23716672261556|\n",
            "|            Albania|1943|      13.19725015759468|\n",
            "|            Albania|1960|     13.335083365440369|\n",
            "|            Andorra|1867|     11.277666707833609|\n",
            "|            Andorra|1970|     11.376583377520243|\n",
            "|             Angola|1926|     21.922666549682617|\n",
            "|             Angola|1942|     21.892083326975506|\n",
            "|             Angola|1979|     22.144749959309895|\n",
            "|             Angola|1987|     22.749916394551594|\n",
            "|           Anguilla|1931|      26.97083330154419|\n",
            "|           Anguilla|1998|     27.740833282470703|\n",
            "|Antigua And Barbuda|1866|     26.054166793823242|\n",
            "|Antigua And Barbuda|1875|      25.93950017293294|\n",
            "|          Argentina|2010|       15.0788334608078|\n",
            "|              Aruba|1913|     27.351500193277996|\n",
            "|          Australia|1868|     21.447583119074505|\n",
            "|            Austria|1941|       5.27283335228761|\n",
            "|         Azerbaijan|2012|     13.086749908824762|\n",
            "|            Bahamas|1865|     25.074416637420654|\n",
            "|            Bahamas|1930|     25.139166673024494|\n",
            "+-------------------+----+-----------------------+\n",
            "only showing top 20 rows\n",
            "\n"
          ]
        }
      ]
    },
    {
      "cell_type": "code",
      "source": [
        "final_df = df.join(df_co2 , [\"Year\",\"Country\"])"
      ],
      "metadata": {
        "id": "a5TNma1LQfzn"
      },
      "execution_count": null,
      "outputs": []
    },
    {
      "cell_type": "markdown",
      "source": [
        "This is the result of the merging two datasets"
      ],
      "metadata": {
        "id": "Hh2AR8qZXf6I"
      }
    },
    {
      "cell_type": "code",
      "source": [
        "final_df.show()"
      ],
      "metadata": {
        "colab": {
          "base_uri": "https://localhost:8080/"
        },
        "id": "VhbQ7KLmSMx2",
        "outputId": "96c3e52a-797e-406e-ad12-00a77f33d474"
      },
      "execution_count": null,
      "outputs": [
        {
          "output_type": "stream",
          "name": "stdout",
          "text": [
            "+----+------------------+-----------------------+-----------+\n",
            "|Year|           Country|avg(AverageTemperature)|        CO2|\n",
            "+----+------------------+-----------------------+-----------+\n",
            "|1960|           Albania|     13.335083365440369|1.258194928|\n",
            "|1979|            Angola|     22.144749959309895|0.636944237|\n",
            "|1987|            Angola|     22.749916394551594|  0.5184278|\n",
            "|2010|         Argentina|       15.0788334608078|4.558499612|\n",
            "|2012|        Azerbaijan|     13.086749908824762| 3.82487717|\n",
            "|1987|        Bangladesh|      25.64241631825765|0.120625234|\n",
            "|1990|          Botswana|     22.944833119710285|  1.9613582|\n",
            "|1997|            Brazil|      25.55941645304362|1.793828678|\n",
            "|1969|              Cuba|     25.657833258310955|2.015669739|\n",
            "|2009|              Cuba|     26.022333304087322|2.641408453|\n",
            "|1999|            Cyprus|     20.073749939600628|6.886143297|\n",
            "|1981|          Dominica|     26.686333179473877|0.486500829|\n",
            "|1962|Dominican Republic|      25.74033323923747|0.353028929|\n",
            "|1960|           Ecuador|     21.823499997456867|0.388033791|\n",
            "|1975|       El Salvador|     24.992250124613445|0.508381505|\n",
            "|1995| Equatorial Guinea|     25.614583333333332|0.254213453|\n",
            "|2006|     Faroe Islands|      7.878499984741211|14.02135047|\n",
            "|1961|             Gabon|     24.196416695912678|0.327302263|\n",
            "|2012|             Haiti|      27.04508352279663|0.224883835|\n",
            "|1999|          Honduras|     25.218833446502686|0.745833911|\n",
            "+----+------------------+-----------------------+-----------+\n",
            "only showing top 20 rows\n",
            "\n"
          ]
        }
      ]
    },
    {
      "cell_type": "markdown",
      "source": [
        "## 2-b\n",
        "This is the correlation between CO2 emissions and temperature change. Since the correlation is -0.234, we can describe that there is weak negative relationship between CO2 emissions and temperature change. This indicates that in terms of the time range of this dataset, we can mention that there might be a decreasing trend of CO2 overall."
      ],
      "metadata": {
        "id": "5O9puH0LXrO5"
      }
    },
    {
      "cell_type": "code",
      "source": [
        "final_df = final_df.dropna()"
      ],
      "metadata": {
        "id": "S4l4ajGgSq9Z"
      },
      "execution_count": null,
      "outputs": []
    },
    {
      "cell_type": "code",
      "source": [
        "from pyspark.sql.functions import rand\n",
        "final_df = final_df.withColumnRenamed('avg(AverageTemperature)', 'avg_AverageTemperature')\n",
        "final_df = final_df.withColumn(\"avg_AverageTemperature\",final_df.avg_AverageTemperature.cast(FloatType()))\n",
        "final_df = final_df.withColumn(\"CO2\",final_df.CO2.cast(FloatType()))\n",
        "final_df.stat.corr(\"avg_AverageTemperature\", \"CO2\")"
      ],
      "metadata": {
        "colab": {
          "base_uri": "https://localhost:8080/"
        },
        "id": "Ugo5mTGvUbM1",
        "outputId": "53e1d226-5858-4d20-ff31-a7fdc8310bbc"
      },
      "execution_count": null,
      "outputs": [
        {
          "output_type": "execute_result",
          "data": {
            "text/plain": [
              "-0.2344769653462897"
            ]
          },
          "metadata": {},
          "execution_count": 50
        }
      ]
    },
    {
      "cell_type": "markdown",
      "source": [
        "-----------------------------------------------------------"
      ],
      "metadata": {
        "id": "bLcS3eVQ-59F"
      }
    },
    {
      "cell_type": "markdown",
      "source": [
        "## Run all the above in google cloud using a cluster"
      ],
      "metadata": {
        "id": "82LCvDBT-2g6"
      }
    },
    {
      "cell_type": "markdown",
      "source": [
        "### The process to run my code above in google cloud as spark job\n",
        "1. Authorize the cloud shell and enable compute engine\n",
        "2. Create the google cloud storage bucket for dataproc cluster\n",
        "3. Create data proc cluster with jupyter and component Gateway"
      ],
      "metadata": {
        "id": "Z4zFdT9rA9tX"
      }
    },
    {
      "cell_type": "markdown",
      "source": [
        "##### Screenshot of Clusters"
      ],
      "metadata": {
        "id": "aLISog07CioD"
      }
    },
    {
      "cell_type": "markdown",
      "source": [
        "![picture](https://drive.google.com/uc?export=view&id=18MGOSGczBiqY8q3eviV6vPf1y7jha5Z2)"
      ],
      "metadata": {
        "id": "Z_fa2I6j_jPw"
      }
    },
    {
      "cell_type": "markdown",
      "source": [
        "##### Screenshot of jupyter code in google cloud"
      ],
      "metadata": {
        "id": "DjxM3jrDCq1j"
      }
    },
    {
      "cell_type": "markdown",
      "source": [
        "![picture](https://drive.google.com/uc?export=view&id=1pozIhfaRmJNOKhx5yLagFBKTrfr_XvMN)"
      ],
      "metadata": {
        "id": "lI4CfGS1C8vo"
      }
    },
    {
      "cell_type": "markdown",
      "source": [
        "-------------------------------------------------------------------------------"
      ],
      "metadata": {
        "id": "QhjTKD06GSug"
      }
    }
  ],
  "metadata": {
    "colab": {
      "provenance": []
    },
    "kernelspec": {
      "display_name": "Python 3",
      "name": "python3"
    },
    "language_info": {
      "name": "python"
    }
  },
  "nbformat": 4,
  "nbformat_minor": 0
}